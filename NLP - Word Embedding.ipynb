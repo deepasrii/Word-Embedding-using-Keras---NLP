{
 "cells": [
  {
   "cell_type": "markdown",
   "id": "9287c57a",
   "metadata": {},
   "source": [
    "# Word Embedding Representation with Keras"
   ]
  },
  {
   "cell_type": "code",
   "execution_count": 1,
   "id": "17e5b832",
   "metadata": {
    "scrolled": true
   },
   "outputs": [],
   "source": [
    "from tensorflow.keras.preprocessing.text import one_hot"
   ]
  },
  {
   "cell_type": "code",
   "execution_count": 2,
   "id": "db4c79d7",
   "metadata": {
    "scrolled": true
   },
   "outputs": [],
   "source": [
    "# Sentences\n",
    "\n",
    "sentences = ['Well done!',\n",
    "             'Good work',\n",
    "             'Great effort',\n",
    "             'nice work',\n",
    "             'Excellent!',\n",
    "             'Weak',\n",
    "             'Poor effort!',\n",
    "             'not good',\n",
    "             'poor work',\n",
    "             'Could have done better.',\n",
    "             'the glass of milk',\n",
    "             'the glass of juice',\n",
    "             'the cup of tea',\n",
    "             'I am a good person',\n",
    "             'I am a good developer',\n",
    "             'understand the meaning of words',\n",
    "             'your presentation is good']"
   ]
  },
  {
   "cell_type": "code",
   "execution_count": 3,
   "id": "714d5270",
   "metadata": {
    "scrolled": true
   },
   "outputs": [
    {
     "data": {
      "text/plain": [
       "['Well done!',\n",
       " 'Good work',\n",
       " 'Great effort',\n",
       " 'nice work',\n",
       " 'Excellent!',\n",
       " 'Weak',\n",
       " 'Poor effort!',\n",
       " 'not good',\n",
       " 'poor work',\n",
       " 'Could have done better.',\n",
       " 'the glass of milk',\n",
       " 'the glass of juice',\n",
       " 'the cup of tea',\n",
       " 'I am a good person',\n",
       " 'I am a good developer',\n",
       " 'understand the meaning of words',\n",
       " 'your presentation is good']"
      ]
     },
     "execution_count": 3,
     "metadata": {},
     "output_type": "execute_result"
    }
   ],
   "source": [
    "sentences"
   ]
  },
  {
   "cell_type": "code",
   "execution_count": 4,
   "id": "3cf356a6",
   "metadata": {
    "scrolled": true
   },
   "outputs": [],
   "source": [
    "# Initialize the vocabulary size which is the size of the dictionary\n",
    "\n",
    "vocab_size = 30000"
   ]
  },
  {
   "cell_type": "markdown",
   "id": "ee4e1ec0",
   "metadata": {},
   "source": [
    "## One Hot Representation"
   ]
  },
  {
   "cell_type": "code",
   "execution_count": 5,
   "id": "be9120f5",
   "metadata": {
    "scrolled": true
   },
   "outputs": [
    {
     "name": "stdout",
     "output_type": "stream",
     "text": [
      "[[23413, 6085], [7558, 1685], [8964, 20883], [25625, 1685], [5766], [23953], [2744, 20883], [14943, 7558], [2744, 1685], [25696, 11160, 6085, 7544], [15461, 4271, 15976, 12702], [15461, 4271, 15976, 2105], [15461, 20776, 15976, 12268], [7707, 19320, 1023, 7558, 25857], [7707, 19320, 1023, 7558, 2696], [18136, 15461, 21648, 15976, 28643], [12718, 7412, 12373, 7558]]\n"
     ]
    }
   ],
   "source": [
    "# convert sentences into one hot representation\n",
    "# one hot representation --> index from the dictionary\n",
    "# index will be less than vocab_size \n",
    "\n",
    "onehot_representation = [one_hot(words, vocab_size) for words in sentences]\n",
    "print(onehot_representation)"
   ]
  },
  {
   "cell_type": "markdown",
   "id": "5e436a7d",
   "metadata": {},
   "source": [
    "## Word Embedding\n"
   ]
  },
  {
   "cell_type": "code",
   "execution_count": 6,
   "id": "89f2a0ce",
   "metadata": {
    "scrolled": true
   },
   "outputs": [],
   "source": [
    "from tensorflow.keras.layers import Embedding\n",
    "from tensorflow.keras.preprocessing.sequence import pad_sequences\n",
    "from tensorflow.keras.models import Sequential\n",
    "import numpy as np"
   ]
  },
  {
   "cell_type": "code",
   "execution_count": 7,
   "id": "b05cae6e",
   "metadata": {
    "scrolled": true
   },
   "outputs": [],
   "source": [
    "# pad documents to a max length of 8 words\n",
    "\n",
    "maximum_sentence_length = 8\n",
    "embedded_docs=pad_sequences(onehot_representation,padding='pre',maxlen=maximum_sentence_length)"
   ]
  },
  {
   "cell_type": "code",
   "execution_count": 8,
   "id": "32864c25",
   "metadata": {
    "scrolled": true
   },
   "outputs": [
    {
     "data": {
      "text/plain": [
       "array([[    0,     0,     0,     0,     0,     0, 23413,  6085],\n",
       "       [    0,     0,     0,     0,     0,     0,  7558,  1685],\n",
       "       [    0,     0,     0,     0,     0,     0,  8964, 20883],\n",
       "       [    0,     0,     0,     0,     0,     0, 25625,  1685],\n",
       "       [    0,     0,     0,     0,     0,     0,     0,  5766],\n",
       "       [    0,     0,     0,     0,     0,     0,     0, 23953],\n",
       "       [    0,     0,     0,     0,     0,     0,  2744, 20883],\n",
       "       [    0,     0,     0,     0,     0,     0, 14943,  7558],\n",
       "       [    0,     0,     0,     0,     0,     0,  2744,  1685],\n",
       "       [    0,     0,     0,     0, 25696, 11160,  6085,  7544],\n",
       "       [    0,     0,     0,     0, 15461,  4271, 15976, 12702],\n",
       "       [    0,     0,     0,     0, 15461,  4271, 15976,  2105],\n",
       "       [    0,     0,     0,     0, 15461, 20776, 15976, 12268],\n",
       "       [    0,     0,     0,  7707, 19320,  1023,  7558, 25857],\n",
       "       [    0,     0,     0,  7707, 19320,  1023,  7558,  2696],\n",
       "       [    0,     0,     0, 18136, 15461, 21648, 15976, 28643],\n",
       "       [    0,     0,     0,     0, 12718,  7412, 12373,  7558]])"
      ]
     },
     "execution_count": 8,
     "metadata": {},
     "output_type": "execute_result"
    }
   ],
   "source": [
    "embedded_docs"
   ]
  },
  {
   "cell_type": "code",
   "execution_count": 9,
   "id": "59b53247",
   "metadata": {
    "scrolled": true
   },
   "outputs": [],
   "source": [
    "dimension=10\n",
    "\n",
    "# compile the model\n",
    "model=Sequential()\n",
    "model.add(Embedding(vocab_size,dimension,input_length=maximum_sentence_length))\n",
    "model.compile('adam','mse')"
   ]
  },
  {
   "cell_type": "code",
   "execution_count": 10,
   "id": "b04ac9e9",
   "metadata": {
    "scrolled": true
   },
   "outputs": [
    {
     "name": "stdout",
     "output_type": "stream",
     "text": [
      "Model: \"sequential\"\n",
      "_________________________________________________________________\n",
      " Layer (type)                Output Shape              Param #   \n",
      "=================================================================\n",
      " embedding (Embedding)       (None, 8, 10)             300000    \n",
      "                                                                 \n",
      "=================================================================\n",
      "Total params: 300,000\n",
      "Trainable params: 300,000\n",
      "Non-trainable params: 0\n",
      "_________________________________________________________________\n"
     ]
    }
   ],
   "source": [
    "model.summary()"
   ]
  },
  {
   "cell_type": "code",
   "execution_count": 11,
   "id": "891fde7c",
   "metadata": {
    "scrolled": true
   },
   "outputs": [
    {
     "name": "stdout",
     "output_type": "stream",
     "text": [
      "[[[ 2.1711025e-02 -1.0425821e-03 -2.2798467e-02 ... -4.7315348e-02\n",
      "   -5.4656491e-03  4.3474760e-02]\n",
      "  [ 2.1711025e-02 -1.0425821e-03 -2.2798467e-02 ... -4.7315348e-02\n",
      "   -5.4656491e-03  4.3474760e-02]\n",
      "  [ 2.1711025e-02 -1.0425821e-03 -2.2798467e-02 ... -4.7315348e-02\n",
      "   -5.4656491e-03  4.3474760e-02]\n",
      "  ...\n",
      "  [ 2.1711025e-02 -1.0425821e-03 -2.2798467e-02 ... -4.7315348e-02\n",
      "   -5.4656491e-03  4.3474760e-02]\n",
      "  [ 2.3266673e-03  4.8162136e-02  1.3865199e-02 ...  4.9666073e-02\n",
      "   -2.7825499e-02  1.7601494e-02]\n",
      "  [ 9.3919411e-03 -4.5011528e-03 -9.2045553e-03 ...  4.2869236e-02\n",
      "    9.4975233e-03 -1.4600158e-03]]\n",
      "\n",
      " [[ 2.1711025e-02 -1.0425821e-03 -2.2798467e-02 ... -4.7315348e-02\n",
      "   -5.4656491e-03  4.3474760e-02]\n",
      "  [ 2.1711025e-02 -1.0425821e-03 -2.2798467e-02 ... -4.7315348e-02\n",
      "   -5.4656491e-03  4.3474760e-02]\n",
      "  [ 2.1711025e-02 -1.0425821e-03 -2.2798467e-02 ... -4.7315348e-02\n",
      "   -5.4656491e-03  4.3474760e-02]\n",
      "  ...\n",
      "  [ 2.1711025e-02 -1.0425821e-03 -2.2798467e-02 ... -4.7315348e-02\n",
      "   -5.4656491e-03  4.3474760e-02]\n",
      "  [ 4.4275109e-02  1.2670133e-02 -3.5644401e-02 ... -1.6771745e-02\n",
      "   -1.5727185e-02 -3.4846663e-02]\n",
      "  [ 3.7731204e-02 -1.7208539e-02  1.0346174e-03 ... -2.2112951e-03\n",
      "   -4.6582043e-02  1.0863114e-02]]\n",
      "\n",
      " [[ 2.1711025e-02 -1.0425821e-03 -2.2798467e-02 ... -4.7315348e-02\n",
      "   -5.4656491e-03  4.3474760e-02]\n",
      "  [ 2.1711025e-02 -1.0425821e-03 -2.2798467e-02 ... -4.7315348e-02\n",
      "   -5.4656491e-03  4.3474760e-02]\n",
      "  [ 2.1711025e-02 -1.0425821e-03 -2.2798467e-02 ... -4.7315348e-02\n",
      "   -5.4656491e-03  4.3474760e-02]\n",
      "  ...\n",
      "  [ 2.1711025e-02 -1.0425821e-03 -2.2798467e-02 ... -4.7315348e-02\n",
      "   -5.4656491e-03  4.3474760e-02]\n",
      "  [ 3.5431709e-02  3.6787357e-02 -3.8556933e-02 ... -1.6434658e-02\n",
      "    4.8729889e-03  4.4043589e-02]\n",
      "  [-4.3099355e-02  5.6343302e-03 -4.2095602e-02 ...  3.0485798e-02\n",
      "   -1.6467977e-02  4.4817105e-03]]\n",
      "\n",
      " ...\n",
      "\n",
      " [[ 2.1711025e-02 -1.0425821e-03 -2.2798467e-02 ... -4.7315348e-02\n",
      "   -5.4656491e-03  4.3474760e-02]\n",
      "  [ 2.1711025e-02 -1.0425821e-03 -2.2798467e-02 ... -4.7315348e-02\n",
      "   -5.4656491e-03  4.3474760e-02]\n",
      "  [ 2.1711025e-02 -1.0425821e-03 -2.2798467e-02 ... -4.7315348e-02\n",
      "   -5.4656491e-03  4.3474760e-02]\n",
      "  ...\n",
      "  [ 2.2004247e-03 -4.1825581e-02 -3.6545552e-02 ... -3.0085970e-02\n",
      "   -5.8662146e-05 -1.3923310e-02]\n",
      "  [ 4.4275109e-02  1.2670133e-02 -3.5644401e-02 ... -1.6771745e-02\n",
      "   -1.5727185e-02 -3.4846663e-02]\n",
      "  [-1.2032080e-02 -2.4460519e-02  1.9049373e-02 ...  9.0493448e-03\n",
      "    2.6138354e-02 -2.8127659e-02]]\n",
      "\n",
      " [[ 2.1711025e-02 -1.0425821e-03 -2.2798467e-02 ... -4.7315348e-02\n",
      "   -5.4656491e-03  4.3474760e-02]\n",
      "  [ 2.1711025e-02 -1.0425821e-03 -2.2798467e-02 ... -4.7315348e-02\n",
      "   -5.4656491e-03  4.3474760e-02]\n",
      "  [ 2.1711025e-02 -1.0425821e-03 -2.2798467e-02 ... -4.7315348e-02\n",
      "   -5.4656491e-03  4.3474760e-02]\n",
      "  ...\n",
      "  [-4.4206023e-02  4.5638237e-02  4.8385486e-03 ...  1.8231604e-02\n",
      "   -3.9404012e-02 -2.8649926e-02]\n",
      "  [ 1.6748335e-02  3.4335520e-02 -4.6259053e-03 ...  2.3010027e-02\n",
      "    2.7698550e-02  1.0915685e-02]\n",
      "  [ 7.7793114e-03  4.4586908e-02  1.4821503e-02 ...  4.3169800e-02\n",
      "    1.3761595e-04 -2.5837814e-02]]\n",
      "\n",
      " [[ 2.1711025e-02 -1.0425821e-03 -2.2798467e-02 ... -4.7315348e-02\n",
      "   -5.4656491e-03  4.3474760e-02]\n",
      "  [ 2.1711025e-02 -1.0425821e-03 -2.2798467e-02 ... -4.7315348e-02\n",
      "   -5.4656491e-03  4.3474760e-02]\n",
      "  [ 2.1711025e-02 -1.0425821e-03 -2.2798467e-02 ... -4.7315348e-02\n",
      "   -5.4656491e-03  4.3474760e-02]\n",
      "  ...\n",
      "  [ 1.3304520e-02 -2.5690341e-02 -3.7054289e-02 ...  4.1541491e-02\n",
      "   -2.6279926e-02 -1.4712382e-02]\n",
      "  [-8.8389292e-03  4.5481596e-02 -1.4078844e-02 ...  4.4218469e-02\n",
      "    2.5631670e-02  3.1255651e-02]\n",
      "  [ 4.4275109e-02  1.2670133e-02 -3.5644401e-02 ... -1.6771745e-02\n",
      "   -1.5727185e-02 -3.4846663e-02]]]\n"
     ]
    }
   ],
   "source": [
    "print(model.predict(embedded_docs))"
   ]
  },
  {
   "cell_type": "code",
   "execution_count": 12,
   "id": "ffdd354e",
   "metadata": {
    "scrolled": true
   },
   "outputs": [
    {
     "data": {
      "text/plain": [
       "array([    0,     0,     0,     0, 15461,  4271, 15976, 12702])"
      ]
     },
     "execution_count": 12,
     "metadata": {},
     "output_type": "execute_result"
    }
   ],
   "source": [
    "embedded_docs[10]"
   ]
  },
  {
   "cell_type": "code",
   "execution_count": 13,
   "id": "b9af9f37",
   "metadata": {
    "scrolled": true
   },
   "outputs": [
    {
     "name": "stdout",
     "output_type": "stream",
     "text": [
      "[[ 0.02171103 -0.00104258 -0.02279847  0.02940999 -0.01806449  0.04067775\n",
      "  -0.00288896 -0.04731535 -0.00546565  0.04347476]\n",
      " [ 0.02171103 -0.00104258 -0.02279847  0.02940999 -0.01806449  0.04067775\n",
      "  -0.00288896 -0.04731535 -0.00546565  0.04347476]\n",
      " [ 0.02171103 -0.00104258 -0.02279847  0.02940999 -0.01806449  0.04067775\n",
      "  -0.00288896 -0.04731535 -0.00546565  0.04347476]\n",
      " [ 0.02171103 -0.00104258 -0.02279847  0.02940999 -0.01806449  0.04067775\n",
      "  -0.00288896 -0.04731535 -0.00546565  0.04347476]\n",
      " [-0.00745826  0.03311503  0.01934205  0.02664414  0.03143356 -0.01541539\n",
      "  -0.01924293 -0.01298719 -0.0237463  -0.00023611]\n",
      " [ 0.04405868 -0.00368507  0.03827066  0.01495269 -0.04886691  0.02305743\n",
      "  -0.01137793 -0.00472318 -0.03809013  0.00666231]\n",
      " [ 0.01674834  0.03433552 -0.00462591  0.02586609 -0.04122503 -0.03808634\n",
      "  -0.04500758  0.02301003  0.02769855  0.01091569]\n",
      " [ 0.00418583  0.02337858  0.01373689  0.04185222  0.02479756 -0.01643366\n",
      "   0.01393462  0.01693881 -0.0058934   0.04838565]]\n"
     ]
    }
   ],
   "source": [
    "print(model.predict(embedded_docs)[10])"
   ]
  }
 ],
 "metadata": {
  "kernelspec": {
   "display_name": "Python 3 (ipykernel)",
   "language": "python",
   "name": "python3"
  },
  "language_info": {
   "codemirror_mode": {
    "name": "ipython",
    "version": 3
   },
   "file_extension": ".py",
   "mimetype": "text/x-python",
   "name": "python",
   "nbconvert_exporter": "python",
   "pygments_lexer": "ipython3",
   "version": "3.9.7"
  }
 },
 "nbformat": 4,
 "nbformat_minor": 5
}
